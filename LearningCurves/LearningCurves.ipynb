{
 "cells": [
  {
   "cell_type": "code",
   "execution_count": 1,
   "metadata": {},
   "outputs": [],
   "source": [
    "import numpy as np\n",
    "import pandas as pd"
   ]
  },
  {
   "cell_type": "code",
   "execution_count": 2,
   "metadata": {},
   "outputs": [
    {
     "data": {
      "text/html": [
       "<div>\n",
       "<style scoped>\n",
       "    .dataframe tbody tr th:only-of-type {\n",
       "        vertical-align: middle;\n",
       "    }\n",
       "\n",
       "    .dataframe tbody tr th {\n",
       "        vertical-align: top;\n",
       "    }\n",
       "\n",
       "    .dataframe thead th {\n",
       "        text-align: right;\n",
       "    }\n",
       "</style>\n",
       "<table border=\"1\" class=\"dataframe\">\n",
       "  <thead>\n",
       "    <tr style=\"text-align: right;\">\n",
       "      <th></th>\n",
       "      <th>AT</th>\n",
       "      <th>V</th>\n",
       "      <th>AP</th>\n",
       "      <th>RH</th>\n",
       "      <th>PE</th>\n",
       "    </tr>\n",
       "  </thead>\n",
       "  <tbody>\n",
       "    <tr>\n",
       "      <th>0</th>\n",
       "      <td>14.96</td>\n",
       "      <td>41.76</td>\n",
       "      <td>1024.07</td>\n",
       "      <td>73.17</td>\n",
       "      <td>463.26</td>\n",
       "    </tr>\n",
       "    <tr>\n",
       "      <th>1</th>\n",
       "      <td>25.18</td>\n",
       "      <td>62.96</td>\n",
       "      <td>1020.04</td>\n",
       "      <td>59.08</td>\n",
       "      <td>444.37</td>\n",
       "    </tr>\n",
       "    <tr>\n",
       "      <th>2</th>\n",
       "      <td>5.11</td>\n",
       "      <td>39.40</td>\n",
       "      <td>1012.16</td>\n",
       "      <td>92.14</td>\n",
       "      <td>488.56</td>\n",
       "    </tr>\n",
       "    <tr>\n",
       "      <th>3</th>\n",
       "      <td>20.86</td>\n",
       "      <td>57.32</td>\n",
       "      <td>1010.24</td>\n",
       "      <td>76.64</td>\n",
       "      <td>446.48</td>\n",
       "    </tr>\n",
       "    <tr>\n",
       "      <th>4</th>\n",
       "      <td>10.82</td>\n",
       "      <td>37.50</td>\n",
       "      <td>1009.23</td>\n",
       "      <td>96.62</td>\n",
       "      <td>473.90</td>\n",
       "    </tr>\n",
       "  </tbody>\n",
       "</table>\n",
       "</div>"
      ],
      "text/plain": [
       "      AT      V       AP     RH      PE\n",
       "0  14.96  41.76  1024.07  73.17  463.26\n",
       "1  25.18  62.96  1020.04  59.08  444.37\n",
       "2   5.11  39.40  1012.16  92.14  488.56\n",
       "3  20.86  57.32  1010.24  76.64  446.48\n",
       "4  10.82  37.50  1009.23  96.62  473.90"
      ]
     },
     "execution_count": 2,
     "metadata": {},
     "output_type": "execute_result"
    }
   ],
   "source": [
    "df = pd.read_excel('CCPP/Folds5x2_pp.xlsx')\n",
    "df.head()"
   ]
  },
  {
   "cell_type": "code",
   "execution_count": 3,
   "metadata": {},
   "outputs": [
    {
     "data": {
      "text/plain": [
       "(9568, 5)"
      ]
     },
     "execution_count": 3,
     "metadata": {},
     "output_type": "execute_result"
    }
   ],
   "source": [
    "df.shape"
   ]
  },
  {
   "cell_type": "code",
   "execution_count": 4,
   "metadata": {},
   "outputs": [
    {
     "name": "stdout",
     "output_type": "stream",
     "text": [
      "<class 'pandas.core.frame.DataFrame'>\n",
      "RangeIndex: 9568 entries, 0 to 9567\n",
      "Data columns (total 5 columns):\n",
      "AT    9568 non-null float64\n",
      "V     9568 non-null float64\n",
      "AP    9568 non-null float64\n",
      "RH    9568 non-null float64\n",
      "PE    9568 non-null float64\n",
      "dtypes: float64(5)\n",
      "memory usage: 373.8 KB\n"
     ]
    }
   ],
   "source": [
    "df.info()"
   ]
  },
  {
   "cell_type": "code",
   "execution_count": 5,
   "metadata": {},
   "outputs": [],
   "source": [
    "#Sample train sizes\n",
    "train_sizes = [1, 100, 500, 2000, 5000, 7654]"
   ]
  },
  {
   "cell_type": "code",
   "execution_count": 6,
   "metadata": {},
   "outputs": [],
   "source": [
    "from sklearn.linear_model import LinearRegression\n",
    "from sklearn.model_selection import learning_curve"
   ]
  },
  {
   "cell_type": "code",
   "execution_count": 7,
   "metadata": {},
   "outputs": [],
   "source": [
    "features = ['AT', 'V', 'AP', 'RH']\n",
    "target = ['PE']\n",
    "train_sizes, train_scores, val_scores = learning_curve(estimator = LinearRegression(),\n",
    "                                                      X = df[features],\n",
    "                                                      y = df[target],\n",
    "                                                      train_sizes = train_sizes,\n",
    "                                                      cv= 5,\n",
    "                                                      scoring = 'neg_mean_squared_error',\n",
    "                                                      shuffle = True)"
   ]
  },
  {
   "cell_type": "code",
   "execution_count": 8,
   "metadata": {},
   "outputs": [
    {
     "name": "stdout",
     "output_type": "stream",
     "text": [
      "-------------------- Train Scores on 5 cv set --------------------\n",
      "[[ -0.          -0.          -0.          -0.          -0.        ]\n",
      " [-22.27486428 -18.41856981 -19.59446329 -18.20791985 -18.62685893]\n",
      " [-21.15728901 -20.67511991 -20.39136914 -19.99210586 -22.03169002]\n",
      " [-20.64847996 -20.8056297  -21.68452691 -20.6779872  -20.36850367]\n",
      " [-20.3886174  -20.65921944 -21.51939084 -21.27458174 -20.01751963]\n",
      " [-20.98565335 -20.63006094 -21.04384703 -20.63678602 -20.52902632]]\n"
     ]
    }
   ],
   "source": [
    "#Train scores on 5 CV set\n",
    "print('-' * 20, 'Train Scores on 5 cv set','-' * 20)\n",
    "print(train_scores)"
   ]
  },
  {
   "cell_type": "code",
   "execution_count": 9,
   "metadata": {},
   "outputs": [
    {
     "name": "stdout",
     "output_type": "stream",
     "text": [
      "-------------------- Validation Scores on 5 cv set --------------------\n",
      "[[ -305.92126928 -1085.24948516  -822.55311473  -297.62803549\n",
      "   -591.54739895]\n",
      " [  -22.01514553   -22.00412363   -20.69215226   -23.14440641\n",
      "    -23.13893569]\n",
      " [  -20.09791941   -21.37988072   -19.65991192   -21.64532525\n",
      "    -21.91727968]\n",
      " [  -19.93106973   -21.33391826   -19.7395962    -21.31440162\n",
      "    -21.71249407]\n",
      " [  -19.89581134   -21.32645223   -19.71557468   -21.32136567\n",
      "    -21.76770226]\n",
      " [  -19.9046791    -21.33448781   -19.67831137   -21.31934928\n",
      "    -21.73737127]]\n"
     ]
    }
   ],
   "source": [
    "#Validation scores on 5 CV set\n",
    "print('-' * 20, 'Validation Scores on 5 cv set','-' * 20)\n",
    "print(val_scores)"
   ]
  },
  {
   "cell_type": "code",
   "execution_count": 10,
   "metadata": {},
   "outputs": [
    {
     "name": "stdout",
     "output_type": "stream",
     "text": [
      "Mean Training Scores\n",
      " --------------------\n",
      "1       -0.000000\n",
      "100     19.424535\n",
      "500     20.849515\n",
      "2000    20.837025\n",
      "5000    20.771866\n",
      "7654    20.765075\n",
      "dtype: float64\n",
      "--------------------\n",
      "Mean Validation Scores\n",
      " --------------------\n",
      "1       620.579861\n",
      "100      22.198953\n",
      "500      20.940063\n",
      "2000     20.806296\n",
      "5000     20.805381\n",
      "7654     20.794840\n",
      "dtype: float64\n"
     ]
    }
   ],
   "source": [
    "mean_train_score = -train_scores.mean(axis = 1) \n",
    "mean_val_score = -val_scores.mean(axis = 1)\n",
    "print('Mean Training Scores\\n', '-' * 20) \n",
    "print(pd.Series(mean_train_score,index = train_sizes))\n",
    "print('-' * 20)\n",
    "print('Mean Validation Scores\\n', '-' * 20)\n",
    "print(pd.Series(mean_val_score, index = train_sizes))"
   ]
  },
  {
   "cell_type": "code",
   "execution_count": 11,
   "metadata": {},
   "outputs": [],
   "source": [
    "import matplotlib.pyplot as plt"
   ]
  },
  {
   "cell_type": "code",
   "execution_count": 12,
   "metadata": {},
   "outputs": [
    {
     "data": {
      "text/plain": [
       "(0, 40)"
      ]
     },
     "execution_count": 12,
     "metadata": {},
     "output_type": "execute_result"
    },
    {
     "data": {
      "image/png": "[encoded data removed]",
      "text/plain": [
       "<Figure size 432x288 with 1 Axes>"
      ]
     },
     "metadata": {
      "needs_background": "light"
     },
     "output_type": "display_data"
    }
   ],
   "source": [
    "plt.plot(train_sizes, mean_train_score, 'r', label = 'Training Error')\n",
    "plt.plot(train_sizes, mean_val_score, 'g', label = 'Validation Error')\n",
    "plt.xlabel('Training Sizes')\n",
    "plt.ylabel('MSE')\n",
    "plt.title('Learning Curve')\n",
    "plt.legend()\n",
    "plt.ylim(0, 40)"
   ]
  },
  {
   "cell_type": "markdown",
   "metadata": {},
   "source": [
    "When training set size is 1, we can see that the MSE for training data is 0. This is normal behaviour, since the model \n",
    "has no problem fitting perfectly a single data point. But when tested on validation data, the MSE is roughly 430 which \n",
    "is obvious as model can't generalise very well trained only on a single data point. As training set size is increased, the error increases sharply while validation error decreases. This is because the model doesn't predict all the instances correctly so the training MSE is greater than zero. However, the model performs much better on validation data because it's estimated with more data. \n"
   ]
  },
  {
   "cell_type": "markdown",
   "metadata": {},
   "source": [
    "This tells us that adding more instances would not improve model's performance or won't leads us to significantly better models. Adding more features would more likely to help the model's performance because it will increase the complexity of the model. How do we determine whether it's a high bias or high variance model? "
   ]
  },
  {
   "cell_type": "markdown",
   "metadata": {},
   "source": [
    "If the training error is low, it means that the training data is very well fitted to the model. If the model fits the training data well, it means it has low bias w.r.t that set of data. But, in our case, training error increases as training size increases and become plateaus at certain value of roughly 20. Because our model has high training and validation error, it is a high bias model. "
   ]
  },
  {
   "cell_type": "markdown",
   "metadata": {},
   "source": [
    "The solution would be to add more features or increase features using polynomial features or decrease regularization of the learning algorithm."
   ]
  },
  {
   "cell_type": "code",
   "execution_count": null,
   "metadata": {},
   "outputs": [],
   "source": []
  }
 ],
 "metadata": {
  "kernelspec": {
   "display_name": "Python 3",
   "language": "python",
   "name": "python3"
  },
  "language_info": {
   "codemirror_mode": {
    "name": "ipython",
    "version": 3
   },
   "file_extension": ".py",
   "mimetype": "text/x-python",
   "name": "python",
   "nbconvert_exporter": "python",
   "pygments_lexer": "ipython3",
   "version": "3.7.1"
  }
 },
 "nbformat": 4,
 "nbformat_minor": 2
}
